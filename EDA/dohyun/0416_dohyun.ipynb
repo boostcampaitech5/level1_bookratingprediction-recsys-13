{
 "cells": [
  {
   "cell_type": "code",
   "execution_count": 1,
   "metadata": {},
   "outputs": [],
   "source": [
    "import numpy as np\n",
    "import pandas as pd\n",
    "import matplotlib.pyplot as plt\n",
    "import seaborn as sns\n",
    "\n",
    "import os\n",
    "import sys\n",
    "\n",
    "from tqdm import tqdm\n",
    "\n",
    "import re\n",
    "\n",
    "from PIL import Image\n",
    "import requests\n",
    "\n",
    "import warnings\n",
    "warnings.filterwarnings('ignore')"
   ]
  },
  {
   "cell_type": "code",
   "execution_count": 2,
   "metadata": {},
   "outputs": [],
   "source": [
    "data_path = \"/opt/ml/data/\""
   ]
  },
  {
   "cell_type": "code",
   "execution_count": 3,
   "metadata": {},
   "outputs": [],
   "source": [
    "users = pd.read_csv(data_path + 'users.csv')\n",
    "books = pd.read_csv(data_path + 'books.csv')\n",
    "train = pd.read_csv(data_path + 'train_ratings.csv')\n",
    "test = pd.read_csv(data_path + 'test_ratings.csv')"
   ]
  },
  {
   "cell_type": "code",
   "execution_count": 4,
   "metadata": {},
   "outputs": [
    {
     "name": "stdout",
     "output_type": "stream",
     "text": [
      "users shape:  (68092, 3)\n",
      "books shape:  (149570, 10)\n",
      "ratings shape:  (306795, 3)\n"
     ]
    }
   ],
   "source": [
    "print('users shape: ', users.shape)\n",
    "print('books shape: ', books.shape)\n",
    "print('ratings shape: ', train.shape)"
   ]
  },
  {
   "cell_type": "code",
   "execution_count": 5,
   "metadata": {},
   "outputs": [
    {
     "name": "stderr",
     "output_type": "stream",
     "text": [
      "(1/4) fill country: 100%|██████████| 2113/2113 [00:56<00:00, 37.43it/s]\n",
      "(2/4) fill city: 100%|██████████| 1962/1962 [00:18<00:00, 103.83it/s]\n",
      "(3/4) grouping same publisher: 100%|██████████| 5276/5276 [02:29<00:00, 35.19it/s]\n",
      "(4/4) : high-categorizing: 100%|██████████| 43/43 [00:02<00:00, 19.53it/s]\n"
     ]
    },
    {
     "name": "stdout",
     "output_type": "stream",
     "text": [
      "-------------------- Mission1 EDA Done --------------------\n"
     ]
    }
   ],
   "source": [
    "def replace_na(unique:np.array):\n",
    "    unique = unique.tolist()\n",
    "    unique.remove('na')\n",
    "    unique = ['na'] + unique\n",
    "    return unique\n",
    "\n",
    "def age_map(x: int) -> int:\n",
    "    x = int(x)\n",
    "    if x < 20:\n",
    "        return 1\n",
    "    elif x >= 20 and x < 30:\n",
    "        return 2\n",
    "    elif x >= 30 and x < 40:\n",
    "        return 3\n",
    "    elif x >= 40 and x < 50:\n",
    "        return 4\n",
    "    elif x >= 50 and x < 60:\n",
    "        return 5\n",
    "    else:\n",
    "        return 6\n",
    "    \n",
    "ratings1 = train.copy() ; ratings2 = test.copy()\n",
    "\n",
    "users['location'] = users['location'].str.replace(r'[^0-9a-zA-Z:,]', '') # 특수문자 제거\n",
    "users['location_city'] = users['location'].apply(lambda x: x.split(',')[0])\n",
    "users['location_state'] = users['location'].apply(lambda x: x.split(',')[1])\n",
    "users['location_country'] = users['location'].apply(lambda x: x.split(',')[2])\n",
    "users = users.replace('na', np.nan) #특수문자 제거로 n/a가 na로 바뀌게 되었습니다. 따라서 이를 컴퓨터가 인식할 수 있는 결측값으로 변환합니다.\n",
    "users = users.replace('', np.nan) # 일부 경우 , , ,으로 입력된 경우가 있었으므로 이런 경우에도 결측값으로 변환합니다.\n",
    "\n",
    "# city는 있는데 country 없는 경우 채우기\n",
    "modify_location = users[(users['location_country'].isna())&(users['location_city'].notnull())]['location_city'].values\n",
    "\n",
    "location_list = []\n",
    "for location in tqdm(modify_location, desc='(1/4) fill country'):\n",
    "    try:\n",
    "        right_location = users[(users['location'].str.contains(location))&(users['location_country'].notnull())]['location'].value_counts().index[0]\n",
    "        location_list.append(right_location)\n",
    "    except:\n",
    "        pass\n",
    "\n",
    "for location in tqdm(location_list, desc='(2/4) fill city'):\n",
    "    users.loc[users[users['location_city']==location.split(',')[0]].index,'location_state'] = location.split(',')[1]\n",
    "    users.loc[users[users['location_city']==location.split(',')[0]].index,'location_country'] = location.split(',')[2]\n",
    "\n",
    "\n",
    "# book preprocessing\n",
    "\n",
    "# 유명 출판사 표기 오류로 그룹화되지 못하는 케이스 처리\n",
    "publisher_dict=(books['publisher'].value_counts()).to_dict()\n",
    "publisher_count_df = pd.DataFrame(list(publisher_dict.items()),columns = ['publisher','count'])\n",
    "publisher_count_df = publisher_count_df.sort_values(by=['count'], ascending = False)\n",
    "\n",
    "modify_list = publisher_count_df[publisher_count_df['count']>1].publisher.values\n",
    "\n",
    "for publisher in tqdm(modify_list, desc = '(3/4) grouping same publisher'):\n",
    "    try:\n",
    "        number = books[books['publisher']==publisher]['isbn'].apply(lambda x: x[:4]).value_counts().index[0]\n",
    "        right_publisher = books[books['isbn'].apply(lambda x: x[:4])==number]['publisher'].value_counts().index[0]\n",
    "        books.loc[books[books['isbn'].apply(lambda x: x[:4])==number].index,'publisher'] = right_publisher\n",
    "    except: \n",
    "        pass\n",
    "\n",
    "# category 대괄호 제거 및 소문자 변환\n",
    "books.loc[books[books['category'].notnull()].index, 'category'] = books[books['category'].notnull()]['category'].apply(lambda x: re.sub('[\\W_]+',' ',x).strip())\n",
    "books['category'] = books['category'].str.lower()\n",
    "\n",
    "# 43개의 high-category로 묶기\n",
    "categories = ['garden','crafts','physics','adventure','music','fiction','nonfiction','science','science fiction','social','homicide',\n",
    "                'sociology','disease','religion','christian','philosophy','psycholog','mathemat','agricult','environmental',\n",
    "                'business','poetry','drama','literary','travel','motion picture','children','cook','literature','electronic',\n",
    "                'humor','animal','bird','photograph','computer','house','ecology','family','architect','camp','criminal','language','india']\n",
    "\n",
    "for category in tqdm(categories, desc = '(4/4) : high-categorizing'):\n",
    "    books.loc[books[books['category'].str.contains(category,na=False)].index,'category_high'] = category\n",
    "\n",
    "# 10개 이하 항목 others로 묶기\n",
    "category_high_df = pd.DataFrame(books['category_high'].value_counts()).reset_index()\n",
    "category_high_df.columns = ['category','count']\n",
    "others_list = category_high_df[category_high_df['count']<10]['category'].values\n",
    "books.loc[books[books['category_high'].isin(others_list)].index, 'category_high']='others'\n",
    "\n",
    "# year_of_publication 변수 전처리\n",
    "books.loc[104259, 'year_of_publication'] = 2010.0\n",
    "books.loc[121860, 'year_of_publication'] = 1997.0\n",
    "books = books.drop(np.where(books['year_of_publication'] < 1900)[0][0]).reset_index(drop=True)\n",
    "\n",
    "# location은 이제 필요 없음\n",
    "users = users.drop(['location'], axis=1)\n",
    "print('-'*20, 'Mission1 EDA Done', '-'*20)\n",
    "\n",
    "ratings = pd.concat([ratings1, ratings2]).reset_index(drop=True)\n",
    "\n",
    "# 인덱싱 처리된 데이터 조인\n",
    "context_df = ratings.merge(users, on='user_id', how='left').merge(books[['isbn', 'category', 'category_high', 'publisher', 'language', 'book_author', 'year_of_publication']], on='isbn', how='left')\n",
    "train_df = ratings1.merge(users, on='user_id', how='left').merge(books[['isbn', 'category', 'category_high', 'publisher', 'language', 'book_author', 'year_of_publication']], on='isbn', how='left')\n",
    "test_df = ratings2.merge(users, on='user_id', how='left').merge(books[['isbn', 'category', 'category_high', 'publisher', 'language', 'book_author', 'year_of_publication']], on='isbn', how='left')\n",
    "\n",
    "train_df['age'] = train_df['age'].fillna(int(train_df['age'].mean()))\n",
    "train_df['age'] = train_df['age'].apply(age_map)\n",
    "test_df['age'] = test_df['age'].fillna(int(test_df['age'].mean()))\n",
    "test_df['age'] = test_df['age'].apply(age_map)"
   ]
  },
  {
   "cell_type": "code",
   "execution_count": 6,
   "metadata": {},
   "outputs": [],
   "source": [
    "train_df_copy = train_df.copy() ; test_df_copy = test_df.copy() ; context_df_copy = context_df.copy()"
   ]
  },
  {
   "cell_type": "code",
   "execution_count": 7,
   "metadata": {},
   "outputs": [
    {
     "name": "stderr",
     "output_type": "stream",
     "text": [
      "100%|██████████| 7616/7616 [00:08<00:00, 919.30it/s]\n"
     ]
    }
   ],
   "source": [
    "rating1_user = train_df_copy[train_df_copy['rating']==1]['user_id'].unique()\n",
    "\n",
    "bot1_users = []\n",
    "\n",
    "for user in tqdm(rating1_user):\n",
    "    if (train_df[train_df['user_id']==user]['rating'].nunique()==1) & (len(train_df[train_df['user_id']==user]['rating']) > 2):\n",
    "        bot1_users.append(user)"
   ]
  },
  {
   "cell_type": "code",
   "execution_count": 8,
   "metadata": {},
   "outputs": [
    {
     "data": {
      "text/plain": [
       "11"
      ]
     },
     "execution_count": 8,
     "metadata": {},
     "output_type": "execute_result"
    }
   ],
   "source": [
    "len(bot1_users)"
   ]
  },
  {
   "cell_type": "code",
   "execution_count": 9,
   "metadata": {},
   "outputs": [],
   "source": [
    "bot_df = train_df[train_df['user_id'].isin(bot1_users)]"
   ]
  },
  {
   "cell_type": "code",
   "execution_count": 10,
   "metadata": {},
   "outputs": [],
   "source": [
    "# bot_df = books.merge(bot_df, on='isbn', how='left').merge(bot_df[['user_id', 'isbn', 'publisher', 'language', 'book_author', 'year_of_publication']], on='isbn', how='left')\n",
    "bot_df = bot_df.merge(books[['isbn', 'book_title']], on='isbn', how='left')[['user_id', 'language', 'book_author', 'book_title']]"
   ]
  },
  {
   "cell_type": "code",
   "execution_count": 11,
   "metadata": {},
   "outputs": [
    {
     "data": {
      "text/plain": [
       "user_id  book_title                                                                              \n",
       "9083     Hannibal                                                                                    1\n",
       "         The Brethren                                                                                1\n",
       "         The Talisman                                                                                1\n",
       "12392    Escape Via Siberia: A Jewish Child's Odyssey of Survival                                    1\n",
       "         Pigs in Heaven                                                                              1\n",
       "         Tom Clancy's Op-Center: Games of State (Tom Clancy's Op Center (Paperback))                 1\n",
       "95511    Bless Me, Ultima                                                                            1\n",
       "         GOLEM 100                                                                                   1\n",
       "         L. Ron Hubbard Presents Writers of the Future Vol. 16                                       1\n",
       "         Sabbath's Theater                                                                           1\n",
       "         The Knife Thrower and Other Stories                                                         1\n",
       "         Zombie                                                                                      1\n",
       "102002   Historical Deception: The Untold Story of Ancient Egypt                                     1\n",
       "         Hotel of the Saints                                                                         1\n",
       "         More Great Ghost Stories                                                                    1\n",
       "116746   Battle Born                                                                                 1\n",
       "         Fatal Terrain                                                                               1\n",
       "         Key Witness                                                                                 1\n",
       "169476   Daring to Dream                                                                             1\n",
       "         Finding the Dream                                                                           1\n",
       "         Macgregor Grooms (Macgregors)                                                               1\n",
       "195653   City in the Clouds (Secrets of Droon, 4)                                                    1\n",
       "         The Great Ice Battle (Secrets of Droon, 5)                                                  1\n",
       "         The Hidden Stairs and the Magic Carpet (Secret of Droon, No 1)                              1\n",
       "         The Mysterious Island (Secrets of Droon, 3)                                                 1\n",
       "         The Sleeping Giant of Goll (Secrets of Droon, 6)                                            1\n",
       "229859   El Confidente (Andanzas)                                                                    1\n",
       "         Los Siete Pilares de La Sabiduria                                                           1\n",
       "         Yo No Tengo LA Culpa De Haber Nacido Tan Sexy (Andanzas)                                    1\n",
       "251590   Der Ring der Kraft. Don Juan in den StÃ?Â¤dten.                                             1\n",
       "         Der zweite Ring der Kraft.                                                                  1\n",
       "         Die Lehren des Don Juan. Ein Yaqui- Weg des Wissens.                                        1\n",
       "256618   Black Lightning                                                                             1\n",
       "         The Takeover                                                                                1\n",
       "         Total Control                                                                               1\n",
       "268372   Sieh dich nicht um.                                                                         1\n",
       "         Snow Crash.                                                                                 1\n",
       "         Tom Clancys Special Net Force. Ehrensache. Ehrensache / Schwarze Schatten / Geiselnahme.    1\n",
       "Name: book_title, dtype: int64"
      ]
     },
     "execution_count": 11,
     "metadata": {},
     "output_type": "execute_result"
    }
   ],
   "source": [
    "bot_df.groupby('user_id')['book_title'].value_counts()"
   ]
  },
  {
   "attachments": {},
   "cell_type": "markdown",
   "metadata": {},
   "source": [
    "모두 각각 다른책에 전부 평점을 1점을 주었음 -> 이 친구들은 그냥 다 1점을 주는 사람들이라고 생각해보자"
   ]
  },
  {
   "cell_type": "code",
   "execution_count": 12,
   "metadata": {},
   "outputs": [
    {
     "data": {
      "text/plain": [
       "[12392, 256618, 116746, 95511]"
      ]
     },
     "execution_count": 12,
     "metadata": {},
     "output_type": "execute_result"
    }
   ],
   "source": [
    "list(set(test_df['user_id'].unique()) & set(bot1_users))"
   ]
  },
  {
   "cell_type": "code",
   "execution_count": 14,
   "metadata": {},
   "outputs": [],
   "source": [
    "sota_2_1291 = pd.read_csv('20230416_004712_catboost.csv')"
   ]
  },
  {
   "cell_type": "code",
   "execution_count": 15,
   "metadata": {},
   "outputs": [],
   "source": [
    "sota_2_1291_bot_replace = sota_2_1291.copy()\n",
    "sota_2_1291_bot_replace.loc[sota_2_1291_bot_replace['user_id'].isin(bot1_users), 'rating'] = 1"
   ]
  },
  {
   "cell_type": "code",
   "execution_count": 16,
   "metadata": {},
   "outputs": [
    {
     "data": {
      "text/plain": [
       "14942    1.0\n",
       "24678    1.0\n",
       "37674    1.0\n",
       "48901    1.0\n",
       "63508    1.0\n",
       "Name: rating, dtype: float64"
      ]
     },
     "execution_count": 16,
     "metadata": {},
     "output_type": "execute_result"
    }
   ],
   "source": [
    "sota_2_1291_bot_replace[sota_2_1291_bot_replace['user_id'].isin(bot1_users)]['rating']"
   ]
  },
  {
   "cell_type": "code",
   "execution_count": 17,
   "metadata": {},
   "outputs": [],
   "source": [
    "sota_2_1291_bot_replace_ensemble = sota_2_1291.copy()\n",
    "sota_2_1291_bot_replace_ensemble['rating'] = (sota_2_1291_bot_replace['rating'] + sota_2_1291['rating'])/2"
   ]
  },
  {
   "cell_type": "code",
   "execution_count": 18,
   "metadata": {},
   "outputs": [
    {
     "data": {
      "text/html": [
       "<div>\n",
       "<style scoped>\n",
       "    .dataframe tbody tr th:only-of-type {\n",
       "        vertical-align: middle;\n",
       "    }\n",
       "\n",
       "    .dataframe tbody tr th {\n",
       "        vertical-align: top;\n",
       "    }\n",
       "\n",
       "    .dataframe thead th {\n",
       "        text-align: right;\n",
       "    }\n",
       "</style>\n",
       "<table border=\"1\" class=\"dataframe\">\n",
       "  <thead>\n",
       "    <tr style=\"text-align: right;\">\n",
       "      <th></th>\n",
       "      <th>user_id</th>\n",
       "      <th>isbn</th>\n",
       "      <th>rating</th>\n",
       "    </tr>\n",
       "  </thead>\n",
       "  <tbody>\n",
       "    <tr>\n",
       "      <th>0</th>\n",
       "      <td>11676</td>\n",
       "      <td>0002005018</td>\n",
       "      <td>7.285003</td>\n",
       "    </tr>\n",
       "    <tr>\n",
       "      <th>1</th>\n",
       "      <td>116866</td>\n",
       "      <td>0002005018</td>\n",
       "      <td>7.808521</td>\n",
       "    </tr>\n",
       "    <tr>\n",
       "      <th>2</th>\n",
       "      <td>152827</td>\n",
       "      <td>0060973129</td>\n",
       "      <td>7.523333</td>\n",
       "    </tr>\n",
       "    <tr>\n",
       "      <th>3</th>\n",
       "      <td>157969</td>\n",
       "      <td>0374157065</td>\n",
       "      <td>7.733604</td>\n",
       "    </tr>\n",
       "    <tr>\n",
       "      <th>4</th>\n",
       "      <td>67958</td>\n",
       "      <td>0399135782</td>\n",
       "      <td>7.376109</td>\n",
       "    </tr>\n",
       "    <tr>\n",
       "      <th>...</th>\n",
       "      <td>...</td>\n",
       "      <td>...</td>\n",
       "      <td>...</td>\n",
       "    </tr>\n",
       "    <tr>\n",
       "      <th>76694</th>\n",
       "      <td>278543</td>\n",
       "      <td>1576734218</td>\n",
       "      <td>5.394856</td>\n",
       "    </tr>\n",
       "    <tr>\n",
       "      <th>76695</th>\n",
       "      <td>278563</td>\n",
       "      <td>3492223710</td>\n",
       "      <td>6.552265</td>\n",
       "    </tr>\n",
       "    <tr>\n",
       "      <th>76696</th>\n",
       "      <td>278633</td>\n",
       "      <td>1896095186</td>\n",
       "      <td>6.249670</td>\n",
       "    </tr>\n",
       "    <tr>\n",
       "      <th>76697</th>\n",
       "      <td>278668</td>\n",
       "      <td>8408044079</td>\n",
       "      <td>4.979711</td>\n",
       "    </tr>\n",
       "    <tr>\n",
       "      <th>76698</th>\n",
       "      <td>278851</td>\n",
       "      <td>0767907566</td>\n",
       "      <td>5.956442</td>\n",
       "    </tr>\n",
       "  </tbody>\n",
       "</table>\n",
       "<p>76699 rows × 3 columns</p>\n",
       "</div>"
      ],
      "text/plain": [
       "       user_id        isbn    rating\n",
       "0        11676  0002005018  7.285003\n",
       "1       116866  0002005018  7.808521\n",
       "2       152827  0060973129  7.523333\n",
       "3       157969  0374157065  7.733604\n",
       "4        67958  0399135782  7.376109\n",
       "...        ...         ...       ...\n",
       "76694   278543  1576734218  5.394856\n",
       "76695   278563  3492223710  6.552265\n",
       "76696   278633  1896095186  6.249670\n",
       "76697   278668  8408044079  4.979711\n",
       "76698   278851  0767907566  5.956442\n",
       "\n",
       "[76699 rows x 3 columns]"
      ]
     },
     "execution_count": 18,
     "metadata": {},
     "output_type": "execute_result"
    }
   ],
   "source": [
    "sota_2_1291_bot_replace"
   ]
  },
  {
   "cell_type": "code",
   "execution_count": 19,
   "metadata": {},
   "outputs": [
    {
     "data": {
      "text/plain": [
       "14942    3.216642\n",
       "24678    3.333268\n",
       "37674    3.099679\n",
       "48901    3.782704\n",
       "63508    3.033942\n",
       "Name: rating, dtype: float64"
      ]
     },
     "execution_count": 19,
     "metadata": {},
     "output_type": "execute_result"
    }
   ],
   "source": [
    "sota_2_1291_bot_replace_ensemble[sota_2_1291_bot_replace_ensemble['user_id'].isin(bot1_users)]['rating']"
   ]
  },
  {
   "cell_type": "code",
   "execution_count": 101,
   "metadata": {},
   "outputs": [],
   "source": [
    "sota_2_1291_bot_replace.to_csv('sota_2_1291_bot_replace.csv')\n",
    "sota_2_1291_bot_replace_ensemble.to_csv('sota_2_1291_bot_replace_ensemble.csv')"
   ]
  }
 ],
 "metadata": {
  "kernelspec": {
   "display_name": "test",
   "language": "python",
   "name": "python3"
  },
  "language_info": {
   "codemirror_mode": {
    "name": "ipython",
    "version": 3
   },
   "file_extension": ".py",
   "mimetype": "text/x-python",
   "name": "python",
   "nbconvert_exporter": "python",
   "pygments_lexer": "ipython3",
   "version": "3.8.10"
  },
  "orig_nbformat": 4
 },
 "nbformat": 4,
 "nbformat_minor": 2
}
