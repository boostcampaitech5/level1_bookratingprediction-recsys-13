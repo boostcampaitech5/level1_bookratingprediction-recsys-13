{
 "cells": [
  {
   "cell_type": "code",
   "execution_count": 1,
   "id": "db4b9b05-f93c-4d90-a29c-7fd3e641a3fb",
   "metadata": {
    "tags": []
   },
   "outputs": [
    {
     "name": "stdout",
     "output_type": "stream",
     "text": [
      "Collecting hyperopt\n",
      "  Downloading hyperopt-0.2.7-py2.py3-none-any.whl (1.6 MB)\n",
      "\u001b[2K     \u001b[90m━━━━━━━━━━━━━━━━━━━━━━━━━━━━━━━━━━━━━━━━\u001b[0m \u001b[32m1.6/1.6 MB\u001b[0m \u001b[31m48.5 MB/s\u001b[0m eta \u001b[36m0:00:00\u001b[0m\n",
      "\u001b[?25hRequirement already satisfied: numpy in /opt/conda/lib/python3.8/site-packages (from hyperopt) (1.20.3)\n",
      "Collecting networkx>=2.2\n",
      "  Downloading networkx-3.1-py3-none-any.whl (2.1 MB)\n",
      "\u001b[2K     \u001b[90m━━━━━━━━━━━━━━━━━━━━━━━━━━━━━━━━━━━━━━━━\u001b[0m \u001b[32m2.1/2.1 MB\u001b[0m \u001b[31m74.2 MB/s\u001b[0m eta \u001b[36m0:00:00\u001b[0m\n",
      "\u001b[?25hCollecting cloudpickle\n",
      "  Downloading cloudpickle-2.2.1-py3-none-any.whl (25 kB)\n",
      "Collecting future\n",
      "  Downloading future-0.18.3.tar.gz (840 kB)\n",
      "\u001b[2K     \u001b[90m━━━━━━━━━━━━━━━━━━━━━━━━━━━━━━━━━━━━━━\u001b[0m \u001b[32m840.9/840.9 kB\u001b[0m \u001b[31m67.9 MB/s\u001b[0m eta \u001b[36m0:00:00\u001b[0m\n",
      "\u001b[?25h  Preparing metadata (setup.py) ... \u001b[?25ldone\n",
      "\u001b[?25hRequirement already satisfied: six in /opt/conda/lib/python3.8/site-packages (from hyperopt) (1.15.0)\n",
      "Requirement already satisfied: tqdm in /opt/conda/lib/python3.8/site-packages (from hyperopt) (4.51.0)\n",
      "Requirement already satisfied: scipy in /opt/conda/lib/python3.8/site-packages (from hyperopt) (1.10.1)\n",
      "Collecting py4j\n",
      "  Downloading py4j-0.10.9.7-py2.py3-none-any.whl (200 kB)\n",
      "\u001b[2K     \u001b[90m━━━━━━━━━━━━━━━━━━━━━━━━━━━━━━━━━━━━━━\u001b[0m \u001b[32m200.5/200.5 kB\u001b[0m \u001b[31m38.1 MB/s\u001b[0m eta \u001b[36m0:00:00\u001b[0m\n",
      "\u001b[?25hBuilding wheels for collected packages: future\n",
      "  Building wheel for future (setup.py) ... \u001b[?25ldone\n",
      "\u001b[?25h  Created wheel for future: filename=future-0.18.3-py3-none-any.whl size=492026 sha256=31f3b56bcd49a7689753353e3bde17d2648161c81a1a6a129726914020bbbcbd\n",
      "  Stored in directory: /opt/ml/.cache/pip/wheels/a0/0b/ee/e6994fadb42c1354dcccb139b0bf2795271bddfe6253ccdf11\n",
      "Successfully built future\n",
      "Installing collected packages: py4j, networkx, future, cloudpickle, hyperopt\n",
      "Successfully installed cloudpickle-2.2.1 future-0.18.3 hyperopt-0.2.7 networkx-3.1 py4j-0.10.9.7\n",
      "\u001b[33mWARNING: Running pip as the 'root' user can result in broken permissions and conflicting behaviour with the system package manager. It is recommended to use a virtual environment instead: https://pip.pypa.io/warnings/venv\u001b[0m\u001b[33m\n",
      "\u001b[0m\n",
      "\u001b[1m[\u001b[0m\u001b[34;49mnotice\u001b[0m\u001b[1;39;49m]\u001b[0m\u001b[39;49m A new release of pip is available: \u001b[0m\u001b[31;49m23.0.1\u001b[0m\u001b[39;49m -> \u001b[0m\u001b[32;49m23.1\u001b[0m\n",
      "\u001b[1m[\u001b[0m\u001b[34;49mnotice\u001b[0m\u001b[1;39;49m]\u001b[0m\u001b[39;49m To update, run: \u001b[0m\u001b[32;49mpip install --upgrade pip\u001b[0m\n"
     ]
    }
   ],
   "source": [
    "!pip install hyperopt"
   ]
  },
  {
   "cell_type": "code",
   "execution_count": 6,
   "id": "1278cb28-7839-4928-84d4-ffc72a1eedc0",
   "metadata": {
    "tags": []
   },
   "outputs": [],
   "source": [
    "import numpy as np\n",
    "import pandas as pd\n",
    "from sklearn.datasets import make_regression\n",
    "from sklearn.metrics import mean_squared_error\n",
    "from sklearn.model_selection import train_test_split\n",
    "from catboost import CatBoostRegressor\n",
    "from hyperopt import hp, fmin, tpe, Trials\n",
    "import pickle"
   ]
  },
  {
   "cell_type": "code",
   "execution_count": 3,
   "id": "bc4306e4-f548-4a7e-a20f-fddc61eb94d4",
   "metadata": {
    "tags": []
   },
   "outputs": [],
   "source": [
    "space = {\n",
    "    'iterations': hp.quniform('iterations', 5000, 150000, 5000),\n",
    "    'learning_rate': hp.uniform('learning_rate', 0.0001, 0.1),\n",
    "    'depth': hp.quniform('depth', 1, 10, 1),\n",
    "    'l2_leaf_reg': hp.loguniform('l2_leaf_reg', np.log(1e-9), np.log(10)),\n",
    "    'bagging_temperature': hp.loguniform('bagging_temperature', np.log(0.1), np.log(20.0)),\n",
    "    'random_strength': hp.uniform('random_strength', 0, 10),\n",
    "    'min_data_in_leaf': hp.quniform('min_data_in_leaf', 1, 300, 1),\n",
    "    \"use_best_model\": True,\n",
    "    \"task_type\": \"GPU\"\n",
    "}"
   ]
  },
  {
   "cell_type": "code",
   "execution_count": 11,
   "id": "3cbbbabf-733f-4bd0-918a-8fcbe1cd02d5",
   "metadata": {
    "tags": []
   },
   "outputs": [],
   "source": [
    "import os\n",
    "import time\n",
    "import random\n",
    "import numpy as np\n",
    "import torch\n",
    "import torch.nn as nn\n",
    "import logging\n",
    "import json\n",
    "seed = 42\n",
    "random.seed(seed)\n",
    "os.environ['PYTHONHASHSEED'] = str(seed)\n",
    "np.random.seed(seed)\n",
    "torch.manual_seed(seed)\n",
    "torch.cuda.manual_seed(seed)\n",
    "torch.backends.cudnn.deterministic = True"
   ]
  },
  {
   "cell_type": "code",
   "execution_count": 12,
   "id": "4384a52f-8126-48bf-a974-3f814c617b3e",
   "metadata": {
    "tags": []
   },
   "outputs": [],
   "source": [
    "test_size = 0.2\n",
    "def context_data_split(data):\n",
    "    \"\"\"\n",
    "    Parameters\n",
    "    ----------\n",
    "    Args:\n",
    "        test_size : float\n",
    "            Train/Valid split 비율을 입력합니다.\n",
    "        seed : int\n",
    "            랜덤 seed 값\n",
    "    ----------\n",
    "    \"\"\"\n",
    "\n",
    "    X_train, X_valid, y_train, y_valid = train_test_split(\n",
    "                                                        data['train'].drop(['rating'], axis=1),\n",
    "                                                        data['train']['rating'],\n",
    "                                                        test_size=test_size,\n",
    "                                                        random_state=seed,\n",
    "                                                        shuffle=True\n",
    "                                                        )\n",
    "    data['X_train'], data['X_valid'], data['y_train'], data['y_valid'] = X_train, X_valid, y_train, y_valid\n",
    "    \n",
    "    # train 데이터와 validation 데이터의 인덱스 분할\n",
    "    train_idx, valid_idx = train_test_split(data['train'].index, test_size=test_size, random_state=seed, shuffle=True)\n",
    "\n",
    "    # train 데이터와 validation 데이터의 인덱스를 각각 CSV 파일로 저장\n",
    "    os.makedirs('./data_index', exist_ok=True)\n",
    "    data['train'].loc[train_idx].to_csv(f'./data_index/context_data_train_index.csv', index=False)\n",
    "    data['train'].loc[valid_idx].to_csv(f'./data_index/context_data_valid_index.csv', index=False)\n",
    "    return data"
   ]
  },
  {
   "cell_type": "code",
   "execution_count": null,
   "id": "f95f2712-32af-4dd1-99f7-5dd18c35372f",
   "metadata": {
    "tags": []
   },
   "outputs": [
    {
     "name": "stdout",
     "output_type": "stream",
     "text": [
      " 84%|████████▍ | 839/1000 [6:57:27<2:19:20, 51.93s/trial, best loss: 1.4716599290996835]"
     ]
    },
    {
     "name": "stderr",
     "output_type": "stream",
     "text": [
      "Warning: less than 75% gpu memory available for training. Free: 23887.75 Total: 32510.5\n"
     ]
    },
    {
     "name": "stdout",
     "output_type": "stream",
     "text": [
      " 84%|████████▍ | 840/1000 [6:58:27<2:25:22, 54.52s/trial, best loss: 1.4716599290996835]"
     ]
    },
    {
     "name": "stderr",
     "output_type": "stream",
     "text": [
      "Warning: less than 75% gpu memory available for training. Free: 23887.75 Total: 32510.5\n"
     ]
    },
    {
     "name": "stdout",
     "output_type": "stream",
     "text": [
      " 84%|████████▍ | 841/1000 [6:59:09<2:14:19, 50.69s/trial, best loss: 1.4716599290996835]"
     ]
    },
    {
     "name": "stderr",
     "output_type": "stream",
     "text": [
      "Warning: less than 75% gpu memory available for training. Free: 23149.75 Total: 32510.5\n"
     ]
    },
    {
     "name": "stdout",
     "output_type": "stream",
     "text": [
      " 84%|████████▍ | 842/1000 [7:00:04<2:16:56, 52.00s/trial, best loss: 1.4716599290996835]"
     ]
    },
    {
     "name": "stderr",
     "output_type": "stream",
     "text": [
      "Warning: less than 75% gpu memory available for training. Free: 22485.75 Total: 32510.5\n"
     ]
    },
    {
     "name": "stdout",
     "output_type": "stream",
     "text": [
      " 84%|████████▍ | 843/1000 [7:01:06<2:23:35, 54.88s/trial, best loss: 1.4716599290996835]"
     ]
    },
    {
     "name": "stderr",
     "output_type": "stream",
     "text": [
      "Warning: less than 75% gpu memory available for training. Free: 21885.75 Total: 32510.5\n"
     ]
    },
    {
     "name": "stdout",
     "output_type": "stream",
     "text": [
      " 84%|████████▍ | 844/1000 [7:02:09<2:29:00, 57.31s/trial, best loss: 1.4716599290996835]"
     ]
    },
    {
     "name": "stderr",
     "output_type": "stream",
     "text": [
      "Warning: less than 75% gpu memory available for training. Free: 21885.75 Total: 32510.5\n"
     ]
    },
    {
     "name": "stdout",
     "output_type": "stream",
     "text": [
      " 84%|████████▍ | 845/1000 [7:02:52<2:17:29, 53.22s/trial, best loss: 1.4716599290996835]"
     ]
    },
    {
     "name": "stderr",
     "output_type": "stream",
     "text": [
      "Warning: less than 75% gpu memory available for training. Free: 21343.75 Total: 32510.5\n"
     ]
    },
    {
     "name": "stdout",
     "output_type": "stream",
     "text": [
      " 85%|████████▍ | 846/1000 [7:03:53<2:22:39, 55.58s/trial, best loss: 1.4716599290996835]"
     ]
    },
    {
     "name": "stderr",
     "output_type": "stream",
     "text": [
      "Warning: less than 75% gpu memory available for training. Free: 20855.75 Total: 32510.5\n"
     ]
    },
    {
     "name": "stdout",
     "output_type": "stream",
     "text": [
      " 85%|████████▍ | 847/1000 [7:04:55<2:26:25, 57.42s/trial, best loss: 1.4716599290996835]"
     ]
    },
    {
     "name": "stderr",
     "output_type": "stream",
     "text": [
      "Warning: less than 75% gpu memory available for training. Free: 20855.75 Total: 32510.5\n"
     ]
    },
    {
     "name": "stdout",
     "output_type": "stream",
     "text": [
      " 85%|████████▍ | 848/1000 [7:05:25<2:04:44, 49.24s/trial, best loss: 1.4716599290996835]"
     ]
    },
    {
     "name": "stderr",
     "output_type": "stream",
     "text": [
      "Warning: less than 75% gpu memory available for training. Free: 20413.75 Total: 32510.5\n"
     ]
    },
    {
     "name": "stdout",
     "output_type": "stream",
     "text": [
      " 86%|████████▌ | 856/1000 [7:12:22<2:02:48, 51.17s/trial, best loss: 1.4716599290996835]"
     ]
    },
    {
     "name": "stderr",
     "output_type": "stream",
     "text": [
      "Warning: less than 75% gpu memory available for training. Free: 23887.75 Total: 32510.5\n"
     ]
    },
    {
     "name": "stdout",
     "output_type": "stream",
     "text": [
      " 86%|████████▌ | 857/1000 [7:13:23<2:09:02, 54.14s/trial, best loss: 1.4716599290996835]"
     ]
    },
    {
     "name": "stderr",
     "output_type": "stream",
     "text": [
      "Warning: less than 75% gpu memory available for training. Free: 23887.75 Total: 32510.5\n"
     ]
    },
    {
     "name": "stdout",
     "output_type": "stream",
     "text": [
      " 86%|████████▌ | 858/1000 [7:14:04<1:58:43, 50.17s/trial, best loss: 1.4716599290996835]"
     ]
    },
    {
     "name": "stderr",
     "output_type": "stream",
     "text": [
      "Warning: less than 75% gpu memory available for training. Free: 23149.75 Total: 32510.5\n"
     ]
    },
    {
     "name": "stdout",
     "output_type": "stream",
     "text": [
      " 86%|████████▌ | 859/1000 [7:14:59<2:01:02, 51.51s/trial, best loss: 1.4716599290996835]"
     ]
    },
    {
     "name": "stderr",
     "output_type": "stream",
     "text": [
      "Warning: less than 75% gpu memory available for training. Free: 22485.75 Total: 32510.5\n"
     ]
    },
    {
     "name": "stdout",
     "output_type": "stream",
     "text": [
      " 86%|████████▌ | 860/1000 [7:15:55<2:03:00, 52.72s/trial, best loss: 1.4716599290996835]"
     ]
    },
    {
     "name": "stderr",
     "output_type": "stream",
     "text": [
      "Warning: less than 75% gpu memory available for training. Free: 21885.75 Total: 32510.5\n"
     ]
    },
    {
     "name": "stdout",
     "output_type": "stream",
     "text": [
      " 86%|████████▌ | 861/1000 [7:16:36<1:54:12, 49.30s/trial, best loss: 1.4716599290996835]"
     ]
    },
    {
     "name": "stderr",
     "output_type": "stream",
     "text": [
      "Warning: less than 75% gpu memory available for training. Free: 21343.75 Total: 32510.5\n"
     ]
    },
    {
     "name": "stdout",
     "output_type": "stream",
     "text": [
      " 87%|████████▋ | 874/1000 [7:26:39<1:41:22, 48.27s/trial, best loss: 1.4716599290996835]"
     ]
    }
   ],
   "source": [
    "with open('/opt/ml/data/20230419_015908_catboost_data.pt',\"rb\") as f:\n",
    "    data = pickle.load(f)\n",
    "data = context_data_split(data)\n",
    "\n",
    "def rmse(real: list, predict: list) -> float:\n",
    "    pred = np.array(predict)\n",
    "    return np.sqrt(np.mean((real-pred) ** 2))\n",
    "\n",
    "# final EDA\n",
    "cat_features = ['user_id', 'isbn', 'category', 'category_high', 'publisher', 'language', 'book_author','age_map', 'location_city', 'location_state', 'location_country', 'year_of_publication_map']\n",
    "\n",
    "def objective(params):\n",
    "    model = CatBoostRegressor(\n",
    "        learning_rate=params['learning_rate'],\n",
    "        depth=int(params['depth']),\n",
    "        l2_leaf_reg=params['l2_leaf_reg'],\n",
    "        bagging_temperature=params['bagging_temperature'],\n",
    "        random_strength=params['random_strength'],\n",
    "        verbose=False,\n",
    "        task_type=\"GPU\",\n",
    "        eval_metric='RMSE'\n",
    "    )\n",
    "\n",
    "    model.fit(data['X_train'], data['y_train'], eval_set=(data['X_valid'],data['y_valid']), cat_features=cat_features, early_stopping_rounds=300)\n",
    "    y_pred = model.predict(data['X_valid'])\n",
    "\n",
    "    rmse = np.sqrt(mean_squared_error(data['y_valid'], y_pred))\n",
    "    return {'loss': rmse, 'status': 'ok'}\n",
    "\n",
    "trials = Trials()\n",
    "best = fmin(fn=objective,\n",
    "            space=space,\n",
    "            algo=tpe.suggest,\n",
    "            max_evals=1000,\n",
    "            trials=trials)\n",
    "\n",
    "print('Best hyperparameters:', best)"
   ]
  },
  {
   "cell_type": "code",
   "execution_count": 14,
   "id": "d40ccd1b-bfb2-4d93-a02a-a3a905216fb8",
   "metadata": {},
   "outputs": [
    {
     "data": {
      "text/plain": [
       "{'bagging_temperature': 0.11524314031940042,\n",
       " 'depth': 6.0,\n",
       " 'iterations': 145000.0,\n",
       " 'l2_leaf_reg': 0.07724627592519046,\n",
       " 'learning_rate': 0.09845218780938297,\n",
       " 'min_data_in_leaf': 6.0,\n",
       " 'random_strength': 0.44099650574603644}"
      ]
     },
     "execution_count": 14,
     "metadata": {},
     "output_type": "execute_result"
    }
   ],
   "source": [
    "best"
   ]
  },
  {
   "cell_type": "code",
   "execution_count": null,
   "id": "f278b33e-095d-4cd3-a137-319d046ef1ae",
   "metadata": {},
   "outputs": [],
   "source": []
  }
 ],
 "metadata": {
  "kernelspec": {
   "display_name": "Python 3 (ipykernel)",
   "language": "python",
   "name": "python3"
  },
  "language_info": {
   "codemirror_mode": {
    "name": "ipython",
    "version": 3
   },
   "file_extension": ".py",
   "mimetype": "text/x-python",
   "name": "python",
   "nbconvert_exporter": "python",
   "pygments_lexer": "ipython3",
   "version": "3.8.5"
  }
 },
 "nbformat": 4,
 "nbformat_minor": 5
}
