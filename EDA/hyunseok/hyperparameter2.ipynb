{
 "cells": [
  {
   "cell_type": "code",
   "execution_count": 1,
   "id": "db4b9b05-f93c-4d90-a29c-7fd3e641a3fb",
   "metadata": {
    "tags": []
   },
   "outputs": [
    {
     "name": "stdout",
     "output_type": "stream",
     "text": [
      "Requirement already satisfied: hyperopt in /opt/conda/lib/python3.8/site-packages (0.2.7)\n",
      "Requirement already satisfied: scipy in /opt/conda/lib/python3.8/site-packages (from hyperopt) (1.10.1)\n",
      "Requirement already satisfied: cloudpickle in /opt/conda/lib/python3.8/site-packages (from hyperopt) (2.2.1)\n",
      "Requirement already satisfied: numpy in /opt/conda/lib/python3.8/site-packages (from hyperopt) (1.20.3)\n",
      "Requirement already satisfied: tqdm in /opt/conda/lib/python3.8/site-packages (from hyperopt) (4.51.0)\n",
      "Requirement already satisfied: future in /opt/conda/lib/python3.8/site-packages (from hyperopt) (0.18.3)\n",
      "Requirement already satisfied: py4j in /opt/conda/lib/python3.8/site-packages (from hyperopt) (0.10.9.7)\n",
      "Requirement already satisfied: six in /opt/conda/lib/python3.8/site-packages (from hyperopt) (1.15.0)\n",
      "Requirement already satisfied: networkx>=2.2 in /opt/conda/lib/python3.8/site-packages (from hyperopt) (3.1)\n",
      "\u001b[33mWARNING: Running pip as the 'root' user can result in broken permissions and conflicting behaviour with the system package manager. It is recommended to use a virtual environment instead: https://pip.pypa.io/warnings/venv\u001b[0m\u001b[33m\n",
      "\u001b[0m\n",
      "\u001b[1m[\u001b[0m\u001b[34;49mnotice\u001b[0m\u001b[1;39;49m]\u001b[0m\u001b[39;49m A new release of pip is available: \u001b[0m\u001b[31;49m23.0.1\u001b[0m\u001b[39;49m -> \u001b[0m\u001b[32;49m23.1\u001b[0m\n",
      "\u001b[1m[\u001b[0m\u001b[34;49mnotice\u001b[0m\u001b[1;39;49m]\u001b[0m\u001b[39;49m To update, run: \u001b[0m\u001b[32;49mpip install --upgrade pip\u001b[0m\n"
     ]
    }
   ],
   "source": [
    "!pip install hyperopt"
   ]
  },
  {
   "cell_type": "code",
   "execution_count": 2,
   "id": "1278cb28-7839-4928-84d4-ffc72a1eedc0",
   "metadata": {
    "tags": []
   },
   "outputs": [],
   "source": [
    "import numpy as np\n",
    "import pandas as pd\n",
    "from sklearn.datasets import make_regression\n",
    "from sklearn.metrics import mean_squared_error\n",
    "from sklearn.model_selection import train_test_split\n",
    "from catboost import CatBoostRegressor\n",
    "from hyperopt import hp, fmin, tpe, Trials\n",
    "import pickle"
   ]
  },
  {
   "cell_type": "code",
   "execution_count": 3,
   "id": "bc4306e4-f548-4a7e-a20f-fddc61eb94d4",
   "metadata": {
    "tags": []
   },
   "outputs": [],
   "source": [
    "space = {\n",
    "    'iterations': hp.quniform('iterations', 5000, 150000, 5000),\n",
    "    'learning_rate': hp.uniform('learning_rate', 0.0001, 0.1),\n",
    "    'depth': hp.quniform('depth', 1, 10, 1),\n",
    "    'l2_leaf_reg': hp.loguniform('l2_leaf_reg', np.log(1e-9), np.log(10)),\n",
    "    'bagging_temperature': hp.loguniform('bagging_temperature', np.log(0.1), np.log(20.0)),\n",
    "    'random_strength': hp.uniform('random_strength', 0, 10),\n",
    "    'min_data_in_leaf': hp.quniform('min_data_in_leaf', 1, 300, 1),\n",
    "    \"use_best_model\": True,\n",
    "    \"task_type\": \"GPU\"\n",
    "}"
   ]
  },
  {
   "cell_type": "code",
   "execution_count": 4,
   "id": "3cbbbabf-733f-4bd0-918a-8fcbe1cd02d5",
   "metadata": {
    "tags": []
   },
   "outputs": [],
   "source": [
    "import os\n",
    "import time\n",
    "import random\n",
    "import numpy as np\n",
    "import torch\n",
    "import torch.nn as nn\n",
    "import logging\n",
    "import json\n",
    "seed = 42\n",
    "random.seed(seed)\n",
    "os.environ['PYTHONHASHSEED'] = str(seed)\n",
    "np.random.seed(seed)\n",
    "torch.manual_seed(seed)\n",
    "torch.cuda.manual_seed(seed)\n",
    "torch.backends.cudnn.deterministic = True"
   ]
  },
  {
   "cell_type": "code",
   "execution_count": 5,
   "id": "4384a52f-8126-48bf-a974-3f814c617b3e",
   "metadata": {
    "tags": []
   },
   "outputs": [],
   "source": [
    "test_size = 0.2\n",
    "def context_data_split(data):\n",
    "    \"\"\"\n",
    "    Parameters\n",
    "    ----------\n",
    "    Args:\n",
    "        test_size : float\n",
    "            Train/Valid split 비율을 입력합니다.\n",
    "        seed : int\n",
    "            랜덤 seed 값\n",
    "    ----------\n",
    "    \"\"\"\n",
    "\n",
    "    X_train, X_valid, y_train, y_valid = train_test_split(\n",
    "                                                        data['train'].drop(['rating'], axis=1),\n",
    "                                                        data['train']['rating'],\n",
    "                                                        test_size=test_size,\n",
    "                                                        random_state=seed,\n",
    "                                                        shuffle=True\n",
    "                                                        )\n",
    "    data['X_train'], data['X_valid'], data['y_train'], data['y_valid'] = X_train, X_valid, y_train, y_valid\n",
    "    \n",
    "    # train 데이터와 validation 데이터의 인덱스 분할\n",
    "    train_idx, valid_idx = train_test_split(data['train'].index, test_size=test_size, random_state=seed, shuffle=True)\n",
    "\n",
    "    # train 데이터와 validation 데이터의 인덱스를 각각 CSV 파일로 저장\n",
    "    os.makedirs('./data_index', exist_ok=True)\n",
    "    data['train'].loc[train_idx].to_csv(f'./data_index/context_data_train_index.csv', index=False)\n",
    "    data['train'].loc[valid_idx].to_csv(f'./data_index/context_data_valid_index.csv', index=False)\n",
    "    return data"
   ]
  },
  {
   "cell_type": "code",
   "execution_count": null,
   "id": "f95f2712-32af-4dd1-99f7-5dd18c35372f",
   "metadata": {
    "tags": []
   },
   "outputs": [
    {
     "name": "stdout",
     "output_type": "stream",
     "text": [
      "  0%|          | 0/1000 [00:00<?, ?trial/s, best loss=?]"
     ]
    },
    {
     "name": "stderr",
     "output_type": "stream",
     "text": [
      "Warning: less than 75% gpu memory available for training. Free: 1273.75 Total: 32510.5\n"
     ]
    },
    {
     "name": "stdout",
     "output_type": "stream",
     "text": [
      "  0%|          | 1/1000 [00:55<15:18:55, 55.19s/trial, best loss: 2.2325302571811414]"
     ]
    },
    {
     "name": "stderr",
     "output_type": "stream",
     "text": [
      "Warning: less than 75% gpu memory available for training. Free: 2741.75 Total: 32510.5\n"
     ]
    },
    {
     "name": "stdout",
     "output_type": "stream",
     "text": [
      "  0%|          | 2/1000 [01:05<11:35:33, 41.82s/trial, best loss: 2.1752828766156838]"
     ]
    },
    {
     "name": "stderr",
     "output_type": "stream",
     "text": [
      "Warning: less than 75% gpu memory available for training. Free: 2741.75 Total: 32510.5\n"
     ]
    },
    {
     "name": "stdout",
     "output_type": "stream",
     "text": [
      "  0%|          | 3/1000 [01:16<9:01:27, 32.59s/trial, best loss: 2.1752828766156838] "
     ]
    },
    {
     "name": "stderr",
     "output_type": "stream",
     "text": [
      "Warning: less than 75% gpu memory available for training. Free: 2741.75 Total: 32510.5\n"
     ]
    },
    {
     "name": "stdout",
     "output_type": "stream",
     "text": [
      "  0%|          | 4/1000 [02:28<12:16:19, 44.36s/trial, best loss: 2.1378368049737975]"
     ]
    },
    {
     "name": "stderr",
     "output_type": "stream",
     "text": [
      "Warning: less than 75% gpu memory available for training. Free: 4065.75 Total: 32510.5\n"
     ]
    },
    {
     "name": "stdout",
     "output_type": "stream",
     "text": [
      "  0%|          | 5/1000 [03:26<13:23:47, 48.47s/trial, best loss: 2.1378368049737975]"
     ]
    },
    {
     "name": "stderr",
     "output_type": "stream",
     "text": [
      "Warning: less than 75% gpu memory available for training. Free: 5261.75 Total: 32510.5\n"
     ]
    },
    {
     "name": "stdout",
     "output_type": "stream",
     "text": [
      "  1%|          | 6/1000 [03:46<11:01:22, 39.92s/trial, best loss: 2.1378368049737975]"
     ]
    },
    {
     "name": "stderr",
     "output_type": "stream",
     "text": [
      "Warning: less than 75% gpu memory available for training. Free: 6341.75 Total: 32510.5\n"
     ]
    },
    {
     "name": "stdout",
     "output_type": "stream",
     "text": [
      "  1%|          | 7/1000 [04:22<10:40:40, 38.71s/trial, best loss: 2.1378368049737975]"
     ]
    },
    {
     "name": "stderr",
     "output_type": "stream",
     "text": [
      "Warning: less than 75% gpu memory available for training. Free: 1591.75 Total: 32510.5\n"
     ]
    },
    {
     "name": "stdout",
     "output_type": "stream",
     "text": [
      "  1%|          | 8/1000 [05:00<10:33:53, 38.34s/trial, best loss: 2.1378368049737975]"
     ]
    },
    {
     "name": "stderr",
     "output_type": "stream",
     "text": [
      "Warning: less than 75% gpu memory available for training. Free: 1591.75 Total: 32510.5\n"
     ]
    },
    {
     "name": "stdout",
     "output_type": "stream",
     "text": [
      "  1%|          | 9/1000 [06:00<12:20:33, 44.84s/trial, best loss: 2.1378368049737975]"
     ]
    },
    {
     "name": "stderr",
     "output_type": "stream",
     "text": [
      "Warning: less than 75% gpu memory available for training. Free: 3029.75 Total: 32510.5\n"
     ]
    },
    {
     "name": "stdout",
     "output_type": "stream",
     "text": [
      "  1%|          | 10/1000 [07:03<13:54:12, 50.56s/trial, best loss: 2.1378368049737975]"
     ]
    },
    {
     "name": "stderr",
     "output_type": "stream",
     "text": [
      "Warning: less than 75% gpu memory available for training. Free: 4327.75 Total: 32510.5\n"
     ]
    },
    {
     "name": "stdout",
     "output_type": "stream",
     "text": [
      "  1%|          | 11/1000 [08:28<16:42:17, 60.81s/trial, best loss: 2.1378368049737975]"
     ]
    },
    {
     "name": "stderr",
     "output_type": "stream",
     "text": [
      "Warning: less than 75% gpu memory available for training. Free: 5497.75 Total: 32510.5\n"
     ]
    },
    {
     "name": "stdout",
     "output_type": "stream",
     "text": [
      "  1%|          | 12/1000 [09:52<18:34:52, 67.71s/trial, best loss: 2.1378368049737975]"
     ]
    },
    {
     "name": "stderr",
     "output_type": "stream",
     "text": [
      "Warning: less than 75% gpu memory available for training. Free: 6553.75 Total: 32510.5\n"
     ]
    },
    {
     "name": "stdout",
     "output_type": "stream",
     "text": [
      "  1%|▏         | 13/1000 [10:56<18:13:45, 66.49s/trial, best loss: 2.1378368049737975]"
     ]
    },
    {
     "name": "stderr",
     "output_type": "stream",
     "text": [
      "Warning: less than 75% gpu memory available for training. Free: 7507.75 Total: 32510.5\n"
     ]
    },
    {
     "name": "stdout",
     "output_type": "stream",
     "text": [
      "  1%|▏         | 14/1000 [12:08<18:41:10, 68.23s/trial, best loss: 2.1378368049737975]"
     ]
    },
    {
     "name": "stderr",
     "output_type": "stream",
     "text": [
      "Warning: less than 75% gpu memory available for training. Free: 8367.75 Total: 32510.5\n"
     ]
    },
    {
     "name": "stdout",
     "output_type": "stream",
     "text": [
      "  2%|▏         | 15/1000 [13:29<19:43:42, 72.10s/trial, best loss: 2.1378368049737975]"
     ]
    },
    {
     "name": "stderr",
     "output_type": "stream",
     "text": [
      "Warning: less than 75% gpu memory available for training. Free: 9143.75 Total: 32510.5\n"
     ]
    },
    {
     "name": "stdout",
     "output_type": "stream",
     "text": [
      "  2%|▏         | 16/1000 [14:22<18:10:00, 66.46s/trial, best loss: 2.1378368049737975]"
     ]
    },
    {
     "name": "stderr",
     "output_type": "stream",
     "text": [
      "Warning: less than 75% gpu memory available for training. Free: 9843.75 Total: 32510.5\n"
     ]
    },
    {
     "name": "stdout",
     "output_type": "stream",
     "text": [
      "  2%|▏         | 17/1000 [15:48<19:43:23, 72.23s/trial, best loss: 2.1378368049737975]"
     ]
    },
    {
     "name": "stderr",
     "output_type": "stream",
     "text": [
      "Warning: less than 75% gpu memory available for training. Free: 10475.75 Total: 32510.5\n"
     ]
    },
    {
     "name": "stdout",
     "output_type": "stream",
     "text": [
      "  2%|▏         | 18/1000 [16:56<19:20:00, 70.88s/trial, best loss: 2.1378368049737975]"
     ]
    },
    {
     "name": "stderr",
     "output_type": "stream",
     "text": [
      "Warning: less than 75% gpu memory available for training. Free: 11045.75 Total: 32510.5\n"
     ]
    },
    {
     "name": "stdout",
     "output_type": "stream",
     "text": [
      "  2%|▏         | 19/1000 [17:19<15:22:39, 56.43s/trial, best loss: 2.1378368049737975]"
     ]
    },
    {
     "name": "stderr",
     "output_type": "stream",
     "text": [
      "Warning: less than 75% gpu memory available for training. Free: 11045.75 Total: 32510.5\n"
     ]
    },
    {
     "name": "stdout",
     "output_type": "stream",
     "text": [
      "  2%|▏         | 20/1000 [18:30<16:36:26, 61.01s/trial, best loss: 2.1378368049737975]"
     ]
    },
    {
     "name": "stderr",
     "output_type": "stream",
     "text": [
      "Warning: less than 75% gpu memory available for training. Free: 11559.75 Total: 32510.5\n"
     ]
    },
    {
     "name": "stdout",
     "output_type": "stream",
     "text": [
      "  2%|▏         | 21/1000 [19:48<17:55:34, 65.92s/trial, best loss: 2.1378368049737975]"
     ]
    },
    {
     "name": "stderr",
     "output_type": "stream",
     "text": [
      "Warning: less than 75% gpu memory available for training. Free: 12023.75 Total: 32510.5\n"
     ]
    },
    {
     "name": "stdout",
     "output_type": "stream",
     "text": [
      "  2%|▏         | 22/1000 [20:58<18:18:00, 67.36s/trial, best loss: 2.1378368049737975]"
     ]
    },
    {
     "name": "stderr",
     "output_type": "stream",
     "text": [
      "Warning: less than 75% gpu memory available for training. Free: 1591.75 Total: 32510.5\n"
     ]
    },
    {
     "name": "stdout",
     "output_type": "stream",
     "text": [
      "  2%|▏         | 23/1000 [22:12<18:46:28, 69.18s/trial, best loss: 2.1378368049737975]"
     ]
    },
    {
     "name": "stderr",
     "output_type": "stream",
     "text": [
      "Warning: less than 75% gpu memory available for training. Free: 3029.75 Total: 32510.5\n"
     ]
    },
    {
     "name": "stdout",
     "output_type": "stream",
     "text": [
      "  2%|▏         | 24/1000 [23:00<17:02:37, 62.87s/trial, best loss: 2.1378368049737975]"
     ]
    },
    {
     "name": "stderr",
     "output_type": "stream",
     "text": [
      "Warning: less than 75% gpu memory available for training. Free: 4327.75 Total: 32510.5\n"
     ]
    },
    {
     "name": "stdout",
     "output_type": "stream",
     "text": [
      "  2%|▎         | 25/1000 [24:07<17:20:46, 64.05s/trial, best loss: 2.1378368049737975]"
     ]
    },
    {
     "name": "stderr",
     "output_type": "stream",
     "text": [
      "Warning: less than 75% gpu memory available for training. Free: 5497.75 Total: 32510.5\n"
     ]
    },
    {
     "name": "stdout",
     "output_type": "stream",
     "text": [
      "  3%|▎         | 26/1000 [25:18<17:54:44, 66.21s/trial, best loss: 2.1378368049737975]"
     ]
    },
    {
     "name": "stderr",
     "output_type": "stream",
     "text": [
      "Warning: less than 75% gpu memory available for training. Free: 6553.75 Total: 32510.5\n"
     ]
    },
    {
     "name": "stdout",
     "output_type": "stream",
     "text": [
      "  3%|▎         | 27/1000 [25:58<15:46:06, 58.34s/trial, best loss: 2.1378368049737975]"
     ]
    },
    {
     "name": "stderr",
     "output_type": "stream",
     "text": [
      "Warning: less than 75% gpu memory available for training. Free: 7507.75 Total: 32510.5\n"
     ]
    },
    {
     "name": "stdout",
     "output_type": "stream",
     "text": [
      "  3%|▎         | 28/1000 [27:05<16:27:19, 60.95s/trial, best loss: 2.1372968120964697]"
     ]
    },
    {
     "name": "stderr",
     "output_type": "stream",
     "text": [
      "Warning: less than 75% gpu memory available for training. Free: 8367.75 Total: 32510.5\n"
     ]
    },
    {
     "name": "stdout",
     "output_type": "stream",
     "text": [
      "  3%|▎         | 29/1000 [28:15<17:10:19, 63.67s/trial, best loss: 2.1372968120964697]"
     ]
    },
    {
     "name": "stderr",
     "output_type": "stream",
     "text": [
      "Warning: less than 75% gpu memory available for training. Free: 9143.75 Total: 32510.5\n"
     ]
    },
    {
     "name": "stdout",
     "output_type": "stream",
     "text": [
      "  3%|▎         | 30/1000 [29:09<16:23:59, 60.87s/trial, best loss: 2.1372968120964697]"
     ]
    },
    {
     "name": "stderr",
     "output_type": "stream",
     "text": [
      "Warning: less than 75% gpu memory available for training. Free: 9843.75 Total: 32510.5\n"
     ]
    },
    {
     "name": "stdout",
     "output_type": "stream",
     "text": [
      "  3%|▎         | 31/1000 [30:09<16:19:00, 60.62s/trial, best loss: 2.1372968120964697]"
     ]
    },
    {
     "name": "stderr",
     "output_type": "stream",
     "text": [
      "Warning: less than 75% gpu memory available for training. Free: 10475.75 Total: 32510.5\n"
     ]
    },
    {
     "name": "stdout",
     "output_type": "stream",
     "text": [
      "  3%|▎         | 32/1000 [30:53<14:56:04, 55.54s/trial, best loss: 2.1372968120964697]"
     ]
    },
    {
     "name": "stderr",
     "output_type": "stream",
     "text": [
      "Warning: less than 75% gpu memory available for training. Free: 11045.75 Total: 32510.5\n"
     ]
    },
    {
     "name": "stdout",
     "output_type": "stream",
     "text": [
      "  3%|▎         | 33/1000 [32:06<16:18:29, 60.71s/trial, best loss: 2.1372968120964697]"
     ]
    },
    {
     "name": "stderr",
     "output_type": "stream",
     "text": [
      "Warning: less than 75% gpu memory available for training. Free: 1591.75 Total: 32510.5\n"
     ]
    },
    {
     "name": "stdout",
     "output_type": "stream",
     "text": [
      "  3%|▎         | 34/1000 [33:20<17:20:25, 64.62s/trial, best loss: 2.1372968120964697]"
     ]
    },
    {
     "name": "stderr",
     "output_type": "stream",
     "text": [
      "Warning: less than 75% gpu memory available for training. Free: 3029.75 Total: 32510.5\n"
     ]
    },
    {
     "name": "stdout",
     "output_type": "stream",
     "text": [
      "  4%|▎         | 35/1000 [34:16<16:38:15, 62.07s/trial, best loss: 2.1372968120964697]"
     ]
    },
    {
     "name": "stderr",
     "output_type": "stream",
     "text": [
      "Warning: less than 75% gpu memory available for training. Free: 4327.75 Total: 32510.5\n"
     ]
    },
    {
     "name": "stdout",
     "output_type": "stream",
     "text": [
      "  4%|▎         | 36/1000 [35:44<18:41:44, 69.82s/trial, best loss: 2.1372968120964697]"
     ]
    },
    {
     "name": "stderr",
     "output_type": "stream",
     "text": [
      "Warning: less than 75% gpu memory available for training. Free: 5497.75 Total: 32510.5\n"
     ]
    },
    {
     "name": "stdout",
     "output_type": "stream",
     "text": [
      "  4%|▎         | 37/1000 [36:17<15:44:21, 58.84s/trial, best loss: 2.1372968120964697]"
     ]
    },
    {
     "name": "stderr",
     "output_type": "stream",
     "text": [
      "Warning: less than 75% gpu memory available for training. Free: 6553.75 Total: 32510.5\n"
     ]
    },
    {
     "name": "stdout",
     "output_type": "stream",
     "text": [
      "  4%|▍         | 38/1000 [37:11<15:22:18, 57.52s/trial, best loss: 2.1372968120964697]"
     ]
    },
    {
     "name": "stderr",
     "output_type": "stream",
     "text": [
      "Warning: less than 75% gpu memory available for training. Free: 1591.75 Total: 32510.5\n"
     ]
    },
    {
     "name": "stdout",
     "output_type": "stream",
     "text": [
      "  4%|▍         | 39/1000 [38:14<15:48:57, 59.25s/trial, best loss: 2.1372968120964697]"
     ]
    },
    {
     "name": "stderr",
     "output_type": "stream",
     "text": [
      "Warning: less than 75% gpu memory available for training. Free: 3029.75 Total: 32510.5\n"
     ]
    },
    {
     "name": "stdout",
     "output_type": "stream",
     "text": [
      "  4%|▍         | 40/1000 [39:32<17:14:18, 64.64s/trial, best loss: 2.1372968120964697]"
     ]
    },
    {
     "name": "stderr",
     "output_type": "stream",
     "text": [
      "Warning: less than 75% gpu memory available for training. Free: 4327.75 Total: 32510.5\n"
     ]
    },
    {
     "name": "stdout",
     "output_type": "stream",
     "text": [
      "  6%|▌         | 57/1000 [58:31<20:54:58, 79.85s/trial, best loss: 2.1372968120964697]"
     ]
    },
    {
     "name": "stderr",
     "output_type": "stream",
     "text": [
      "Warning: less than 75% gpu memory available for training. Free: 22485.75 Total: 32510.5\n"
     ]
    },
    {
     "name": "stdout",
     "output_type": "stream",
     "text": [
      "  6%|▌         | 58/1000 [59:54<21:10:47, 80.94s/trial, best loss: 2.1372968120964697]"
     ]
    },
    {
     "name": "stderr",
     "output_type": "stream",
     "text": [
      "Warning: less than 75% gpu memory available for training. Free: 1591.75 Total: 32510.5\n"
     ]
    },
    {
     "name": "stdout",
     "output_type": "stream",
     "text": [
      "  6%|▌         | 59/1000 [1:01:01<20:01:55, 76.64s/trial, best loss: 2.1372968120964697]"
     ]
    },
    {
     "name": "stderr",
     "output_type": "stream",
     "text": [
      "Warning: less than 75% gpu memory available for training. Free: 1591.75 Total: 32510.5\n"
     ]
    },
    {
     "name": "stdout",
     "output_type": "stream",
     "text": [
      "  6%|▌         | 60/1000 [1:01:24<15:47:40, 60.49s/trial, best loss: 2.1372968120964697]"
     ]
    },
    {
     "name": "stderr",
     "output_type": "stream",
     "text": [
      "Warning: less than 75% gpu memory available for training. Free: 1591.75 Total: 32510.5\n"
     ]
    },
    {
     "name": "stdout",
     "output_type": "stream",
     "text": [
      "  6%|▌         | 61/1000 [1:03:01<18:40:25, 71.59s/trial, best loss: 2.136947281689055] "
     ]
    },
    {
     "name": "stderr",
     "output_type": "stream",
     "text": [
      "Warning: less than 75% gpu memory available for training. Free: 3029.75 Total: 32510.5\n"
     ]
    },
    {
     "name": "stdout",
     "output_type": "stream",
     "text": [
      "  6%|▌         | 62/1000 [1:03:29<15:13:06, 58.41s/trial, best loss: 2.136947281689055]"
     ]
    },
    {
     "name": "stderr",
     "output_type": "stream",
     "text": [
      "Warning: less than 75% gpu memory available for training. Free: 4327.75 Total: 32510.5\n"
     ]
    },
    {
     "name": "stdout",
     "output_type": "stream",
     "text": [
      "  6%|▋         | 63/1000 [1:03:41<11:35:41, 44.55s/trial, best loss: 2.136947281689055]"
     ]
    },
    {
     "name": "stderr",
     "output_type": "stream",
     "text": [
      "Warning: less than 75% gpu memory available for training. Free: 4327.75 Total: 32510.5\n"
     ]
    },
    {
     "name": "stdout",
     "output_type": "stream",
     "text": [
      "  6%|▋         | 64/1000 [1:05:12<15:11:02, 58.40s/trial, best loss: 2.136947281689055]"
     ]
    },
    {
     "name": "stderr",
     "output_type": "stream",
     "text": [
      "Warning: less than 75% gpu memory available for training. Free: 5497.75 Total: 32510.5\n"
     ]
    },
    {
     "name": "stdout",
     "output_type": "stream",
     "text": [
      "  6%|▋         | 65/1000 [1:05:56<14:03:58, 54.16s/trial, best loss: 2.136947281689055]"
     ]
    },
    {
     "name": "stderr",
     "output_type": "stream",
     "text": [
      "Warning: less than 75% gpu memory available for training. Free: 6553.75 Total: 32510.5\n"
     ]
    },
    {
     "name": "stdout",
     "output_type": "stream",
     "text": [
      "  7%|▋         | 66/1000 [1:07:37<17:40:10, 68.11s/trial, best loss: 2.136947281689055]"
     ]
    },
    {
     "name": "stderr",
     "output_type": "stream",
     "text": [
      "Warning: less than 75% gpu memory available for training. Free: 7507.75 Total: 32510.5\n"
     ]
    },
    {
     "name": "stdout",
     "output_type": "stream",
     "text": [
      "  7%|▋         | 74/1000 [1:18:41<21:39:49, 84.22s/trial, best loss: 2.136947281689055]"
     ]
    },
    {
     "name": "stderr",
     "output_type": "stream",
     "text": [
      "Warning: less than 75% gpu memory available for training. Free: 23887.75 Total: 32510.5\n"
     ]
    },
    {
     "name": "stdout",
     "output_type": "stream",
     "text": [
      "  8%|▊         | 75/1000 [1:19:40<19:42:26, 76.70s/trial, best loss: 2.136947281689055]"
     ]
    },
    {
     "name": "stderr",
     "output_type": "stream",
     "text": [
      "Warning: less than 75% gpu memory available for training. Free: 23149.75 Total: 32510.5\n"
     ]
    },
    {
     "name": "stdout",
     "output_type": "stream",
     "text": [
      "  8%|▊         | 76/1000 [1:20:57<19:45:41, 76.99s/trial, best loss: 2.136947281689055]"
     ]
    },
    {
     "name": "stderr",
     "output_type": "stream",
     "text": [
      "Warning: less than 75% gpu memory available for training. Free: 22485.75 Total: 32510.5\n"
     ]
    },
    {
     "name": "stdout",
     "output_type": "stream",
     "text": [
      "  8%|▊         | 77/1000 [1:22:31<21:01:14, 81.99s/trial, best loss: 2.136947281689055]"
     ]
    },
    {
     "name": "stderr",
     "output_type": "stream",
     "text": [
      "Warning: less than 75% gpu memory available for training. Free: 21885.75 Total: 32510.5\n"
     ]
    },
    {
     "name": "stdout",
     "output_type": "stream",
     "text": [
      "  8%|▊         | 78/1000 [1:23:53<21:01:54, 82.12s/trial, best loss: 2.136947281689055]"
     ]
    },
    {
     "name": "stderr",
     "output_type": "stream",
     "text": [
      "Warning: less than 75% gpu memory available for training. Free: 21343.75 Total: 32510.5\n"
     ]
    },
    {
     "name": "stdout",
     "output_type": "stream",
     "text": [
      "  8%|▊         | 79/1000 [1:25:05<20:13:48, 79.08s/trial, best loss: 2.136947281689055]"
     ]
    },
    {
     "name": "stderr",
     "output_type": "stream",
     "text": [
      "Warning: less than 75% gpu memory available for training. Free: 20855.75 Total: 32510.5\n"
     ]
    },
    {
     "name": "stdout",
     "output_type": "stream",
     "text": [
      "  8%|▊         | 80/1000 [1:26:11<19:09:04, 74.94s/trial, best loss: 2.136947281689055]"
     ]
    },
    {
     "name": "stderr",
     "output_type": "stream",
     "text": [
      "Warning: less than 75% gpu memory available for training. Free: 20413.75 Total: 32510.5\n"
     ]
    },
    {
     "name": "stdout",
     "output_type": "stream",
     "text": [
      "  8%|▊         | 81/1000 [1:27:10<17:54:43, 70.17s/trial, best loss: 2.136947281689055]"
     ]
    },
    {
     "name": "stderr",
     "output_type": "stream",
     "text": [
      "Warning: less than 75% gpu memory available for training. Free: 20015.75 Total: 32510.5\n"
     ]
    },
    {
     "name": "stdout",
     "output_type": "stream",
     "text": [
      "  8%|▊         | 82/1000 [1:28:06<16:48:39, 65.93s/trial, best loss: 2.136947281689055]"
     ]
    },
    {
     "name": "stderr",
     "output_type": "stream",
     "text": [
      "Warning: less than 75% gpu memory available for training. Free: 20015.75 Total: 32510.5\n"
     ]
    },
    {
     "name": "stdout",
     "output_type": "stream",
     "text": [
      "  8%|▊         | 83/1000 [1:29:28<18:00:31, 70.70s/trial, best loss: 2.136947281689055]"
     ]
    },
    {
     "name": "stderr",
     "output_type": "stream",
     "text": [
      "Warning: less than 75% gpu memory available for training. Free: 19655.75 Total: 32510.5\n"
     ]
    },
    {
     "name": "stdout",
     "output_type": "stream",
     "text": [
      "  8%|▊         | 84/1000 [1:30:36<17:50:33, 70.12s/trial, best loss: 2.136947281689055]"
     ]
    },
    {
     "name": "stderr",
     "output_type": "stream",
     "text": [
      "Warning: less than 75% gpu memory available for training. Free: 19331.75 Total: 32510.5\n"
     ]
    },
    {
     "name": "stdout",
     "output_type": "stream",
     "text": [
      "  8%|▊         | 85/1000 [1:32:14<19:56:27, 78.46s/trial, best loss: 2.136947281689055]"
     ]
    },
    {
     "name": "stderr",
     "output_type": "stream",
     "text": [
      "Warning: less than 75% gpu memory available for training. Free: 19037.75 Total: 32510.5\n"
     ]
    },
    {
     "name": "stdout",
     "output_type": "stream",
     "text": [
      "  9%|▊         | 86/1000 [1:33:30<19:44:27, 77.75s/trial, best loss: 2.136947281689055]"
     ]
    },
    {
     "name": "stderr",
     "output_type": "stream",
     "text": [
      "Warning: less than 75% gpu memory available for training. Free: 18771.75 Total: 32510.5\n"
     ]
    },
    {
     "name": "stdout",
     "output_type": "stream",
     "text": [
      "  9%|▉         | 88/1000 [1:36:07<19:49:39, 78.27s/trial, best loss: 2.136947281689055]"
     ]
    },
    {
     "name": "stderr",
     "output_type": "stream",
     "text": [
      "Warning: less than 75% gpu memory available for training. Free: 1591.75 Total: 32510.5\n"
     ]
    },
    {
     "name": "stdout",
     "output_type": "stream",
     "text": [
      "  9%|▉         | 89/1000 [1:37:12<18:49:27, 74.39s/trial, best loss: 2.136947281689055]"
     ]
    },
    {
     "name": "stderr",
     "output_type": "stream",
     "text": [
      "Warning: less than 75% gpu memory available for training. Free: 1591.75 Total: 32510.5\n"
     ]
    },
    {
     "name": "stdout",
     "output_type": "stream",
     "text": [
      "  9%|▉         | 90/1000 [1:38:15<17:56:01, 70.95s/trial, best loss: 2.136947281689055]"
     ]
    },
    {
     "name": "stderr",
     "output_type": "stream",
     "text": [
      "Warning: less than 75% gpu memory available for training. Free: 1591.75 Total: 32510.5\n"
     ]
    },
    {
     "name": "stdout",
     "output_type": "stream",
     "text": [
      " 10%|▉         | 98/1000 [1:47:18<16:05:58, 64.26s/trial, best loss: 2.136947281689055]"
     ]
    },
    {
     "name": "stderr",
     "output_type": "stream",
     "text": [
      "Warning: less than 75% gpu memory available for training. Free: 23887.75 Total: 32510.5\n"
     ]
    },
    {
     "name": "stdout",
     "output_type": "stream",
     "text": [
      " 10%|▉         | 99/1000 [1:48:43<17:37:11, 70.40s/trial, best loss: 2.136947281689055]"
     ]
    },
    {
     "name": "stderr",
     "output_type": "stream",
     "text": [
      "Warning: less than 75% gpu memory available for training. Free: 23149.75 Total: 32510.5\n"
     ]
    },
    {
     "name": "stdout",
     "output_type": "stream",
     "text": [
      " 10%|█         | 100/1000 [1:50:08<18:41:45, 74.78s/trial, best loss: 2.136947281689055]"
     ]
    },
    {
     "name": "stderr",
     "output_type": "stream",
     "text": [
      "Warning: less than 75% gpu memory available for training. Free: 1591.75 Total: 32510.5\n"
     ]
    },
    {
     "name": "stdout",
     "output_type": "stream",
     "text": [
      " 10%|█         | 101/1000 [1:51:19<18:23:41, 73.66s/trial, best loss: 2.136947281689055]"
     ]
    },
    {
     "name": "stderr",
     "output_type": "stream",
     "text": [
      "Warning: less than 75% gpu memory available for training. Free: 3029.75 Total: 32510.5\n"
     ]
    },
    {
     "name": "stdout",
     "output_type": "stream",
     "text": [
      " 10%|█         | 102/1000 [1:51:44<14:45:25, 59.16s/trial, best loss: 2.136947281689055]"
     ]
    },
    {
     "name": "stderr",
     "output_type": "stream",
     "text": [
      "Warning: less than 75% gpu memory available for training. Free: 3029.75 Total: 32510.5\n"
     ]
    },
    {
     "name": "stdout",
     "output_type": "stream",
     "text": [
      " 10%|█         | 103/1000 [1:52:34<14:01:49, 56.31s/trial, best loss: 2.136947281689055]"
     ]
    },
    {
     "name": "stderr",
     "output_type": "stream",
     "text": [
      "Warning: less than 75% gpu memory available for training. Free: 4327.75 Total: 32510.5\n"
     ]
    },
    {
     "name": "stdout",
     "output_type": "stream",
     "text": [
      " 10%|█         | 104/1000 [1:54:03<16:28:24, 66.19s/trial, best loss: 2.136947281689055]"
     ]
    },
    {
     "name": "stderr",
     "output_type": "stream",
     "text": [
      "Warning: less than 75% gpu memory available for training. Free: 5497.75 Total: 32510.5\n"
     ]
    },
    {
     "name": "stdout",
     "output_type": "stream",
     "text": [
      " 10%|█         | 105/1000 [1:55:18<17:07:17, 68.87s/trial, best loss: 2.136947281689055]"
     ]
    },
    {
     "name": "stderr",
     "output_type": "stream",
     "text": [
      "Warning: less than 75% gpu memory available for training. Free: 6553.75 Total: 32510.5\n"
     ]
    },
    {
     "name": "stdout",
     "output_type": "stream",
     "text": [
      " 11%|█         | 106/1000 [1:55:53<14:35:21, 58.75s/trial, best loss: 2.136947281689055]"
     ]
    },
    {
     "name": "stderr",
     "output_type": "stream",
     "text": [
      "Warning: less than 75% gpu memory available for training. Free: 6553.75 Total: 32510.5\n"
     ]
    },
    {
     "name": "stdout",
     "output_type": "stream",
     "text": [
      " 11%|█▏        | 114/1000 [2:05:52<18:33:24, 75.40s/trial, best loss: 2.136947281689055]"
     ]
    },
    {
     "name": "stderr",
     "output_type": "stream",
     "text": [
      "Warning: less than 75% gpu memory available for training. Free: 23887.75 Total: 32510.5\n"
     ]
    },
    {
     "name": "stdout",
     "output_type": "stream",
     "text": [
      " 12%|█▏        | 115/1000 [2:06:50<17:13:59, 70.10s/trial, best loss: 2.136947281689055]"
     ]
    },
    {
     "name": "stderr",
     "output_type": "stream",
     "text": [
      "Warning: less than 75% gpu memory available for training. Free: 23149.75 Total: 32510.5\n"
     ]
    },
    {
     "name": "stdout",
     "output_type": "stream",
     "text": [
      " 12%|█▏        | 116/1000 [2:07:33<15:12:49, 61.96s/trial, best loss: 2.136947281689055]"
     ]
    },
    {
     "name": "stderr",
     "output_type": "stream",
     "text": [
      "Warning: less than 75% gpu memory available for training. Free: 23149.75 Total: 32510.5\n"
     ]
    },
    {
     "name": "stdout",
     "output_type": "stream",
     "text": [
      " 12%|█▏        | 117/1000 [2:08:50<16:16:55, 66.38s/trial, best loss: 2.136947281689055]"
     ]
    },
    {
     "name": "stderr",
     "output_type": "stream",
     "text": [
      "Warning: less than 75% gpu memory available for training. Free: 22485.75 Total: 32510.5\n"
     ]
    },
    {
     "name": "stdout",
     "output_type": "stream",
     "text": [
      " 12%|█▏        | 118/1000 [2:09:54<16:07:25, 65.81s/trial, best loss: 2.136947281689055]"
     ]
    },
    {
     "name": "stderr",
     "output_type": "stream",
     "text": [
      "Warning: less than 75% gpu memory available for training. Free: 21885.75 Total: 32510.5\n"
     ]
    },
    {
     "name": "stdout",
     "output_type": "stream",
     "text": [
      " 12%|█▏        | 119/1000 [2:10:54<15:40:04, 64.02s/trial, best loss: 2.136947281689055]"
     ]
    },
    {
     "name": "stderr",
     "output_type": "stream",
     "text": [
      "Warning: less than 75% gpu memory available for training. Free: 21343.75 Total: 32510.5\n"
     ]
    },
    {
     "name": "stdout",
     "output_type": "stream",
     "text": [
      " 12%|█▏        | 120/1000 [2:12:20<17:14:29, 70.53s/trial, best loss: 2.136947281689055]"
     ]
    },
    {
     "name": "stderr",
     "output_type": "stream",
     "text": [
      "Warning: less than 75% gpu memory available for training. Free: 20855.75 Total: 32510.5\n"
     ]
    },
    {
     "name": "stdout",
     "output_type": "stream",
     "text": [
      " 12%|█▏        | 121/1000 [2:13:09<15:41:26, 64.26s/trial, best loss: 2.136947281689055]"
     ]
    },
    {
     "name": "stderr",
     "output_type": "stream",
     "text": [
      "Warning: less than 75% gpu memory available for training. Free: 20413.75 Total: 32510.5\n"
     ]
    },
    {
     "name": "stdout",
     "output_type": "stream",
     "text": [
      " 12%|█▏        | 122/1000 [2:14:28<16:41:13, 68.42s/trial, best loss: 2.136947281689055]"
     ]
    },
    {
     "name": "stderr",
     "output_type": "stream",
     "text": [
      "Warning: less than 75% gpu memory available for training. Free: 20015.75 Total: 32510.5\n"
     ]
    },
    {
     "name": "stdout",
     "output_type": "stream",
     "text": [
      " 12%|█▏        | 123/1000 [2:14:43<12:49:50, 52.67s/trial, best loss: 2.136947281689055]"
     ]
    },
    {
     "name": "stderr",
     "output_type": "stream",
     "text": [
      "Warning: less than 75% gpu memory available for training. Free: 20015.75 Total: 32510.5\n"
     ]
    },
    {
     "name": "stdout",
     "output_type": "stream",
     "text": [
      " 12%|█▏        | 124/1000 [2:16:04<14:49:08, 60.90s/trial, best loss: 2.136947281689055]"
     ]
    },
    {
     "name": "stderr",
     "output_type": "stream",
     "text": [
      "Warning: less than 75% gpu memory available for training. Free: 1591.75 Total: 32510.5\n"
     ]
    },
    {
     "name": "stdout",
     "output_type": "stream",
     "text": [
      " 12%|█▎        | 125/1000 [2:17:30<16:41:06, 68.65s/trial, best loss: 2.136947281689055]"
     ]
    },
    {
     "name": "stderr",
     "output_type": "stream",
     "text": [
      "Warning: less than 75% gpu memory available for training. Free: 3029.75 Total: 32510.5\n"
     ]
    },
    {
     "name": "stdout",
     "output_type": "stream",
     "text": [
      " 13%|█▎        | 126/1000 [2:18:33<16:13:13, 66.81s/trial, best loss: 2.136947281689055]"
     ]
    },
    {
     "name": "stderr",
     "output_type": "stream",
     "text": [
      "Warning: less than 75% gpu memory available for training. Free: 4327.75 Total: 32510.5\n"
     ]
    },
    {
     "name": "stdout",
     "output_type": "stream",
     "text": [
      " 13%|█▎        | 127/1000 [2:19:32<15:37:57, 64.46s/trial, best loss: 2.136947281689055]"
     ]
    },
    {
     "name": "stderr",
     "output_type": "stream",
     "text": [
      "Warning: less than 75% gpu memory available for training. Free: 5497.75 Total: 32510.5\n"
     ]
    },
    {
     "name": "stdout",
     "output_type": "stream",
     "text": [
      " 13%|█▎        | 128/1000 [2:20:15<14:05:06, 58.15s/trial, best loss: 2.136947281689055]"
     ]
    },
    {
     "name": "stderr",
     "output_type": "stream",
     "text": [
      "Warning: less than 75% gpu memory available for training. Free: 1591.75 Total: 32510.5\n"
     ]
    },
    {
     "name": "stdout",
     "output_type": "stream",
     "text": [
      " 13%|█▎        | 129/1000 [2:21:46<16:24:15, 67.80s/trial, best loss: 2.136947281689055]"
     ]
    },
    {
     "name": "stderr",
     "output_type": "stream",
     "text": [
      "Warning: less than 75% gpu memory available for training. Free: 3029.75 Total: 32510.5\n"
     ]
    },
    {
     "name": "stdout",
     "output_type": "stream",
     "text": [
      " 13%|█▎        | 130/1000 [2:23:26<18:46:21, 77.68s/trial, best loss: 2.136947281689055]"
     ]
    },
    {
     "name": "stderr",
     "output_type": "stream",
     "text": [
      "Warning: less than 75% gpu memory available for training. Free: 1591.75 Total: 32510.5\n"
     ]
    },
    {
     "name": "stdout",
     "output_type": "stream",
     "text": [
      " 13%|█▎        | 131/1000 [2:24:31<17:48:20, 73.76s/trial, best loss: 2.136947281689055]"
     ]
    },
    {
     "name": "stderr",
     "output_type": "stream",
     "text": [
      "Warning: less than 75% gpu memory available for training. Free: 3029.75 Total: 32510.5\n"
     ]
    },
    {
     "name": "stdout",
     "output_type": "stream",
     "text": [
      " 13%|█▎        | 132/1000 [2:25:46<17:54:30, 74.27s/trial, best loss: 2.136947281689055]"
     ]
    },
    {
     "name": "stderr",
     "output_type": "stream",
     "text": [
      "Warning: less than 75% gpu memory available for training. Free: 4327.75 Total: 32510.5\n"
     ]
    },
    {
     "name": "stdout",
     "output_type": "stream",
     "text": [
      " 13%|█▎        | 133/1000 [2:26:46<16:49:43, 69.88s/trial, best loss: 2.136947281689055]"
     ]
    },
    {
     "name": "stderr",
     "output_type": "stream",
     "text": [
      "Warning: less than 75% gpu memory available for training. Free: 5497.75 Total: 32510.5\n"
     ]
    },
    {
     "name": "stdout",
     "output_type": "stream",
     "text": [
      " 13%|█▎        | 134/1000 [2:28:03<17:20:08, 72.07s/trial, best loss: 2.136947281689055]"
     ]
    },
    {
     "name": "stderr",
     "output_type": "stream",
     "text": [
      "Warning: less than 75% gpu memory available for training. Free: 6553.75 Total: 32510.5\n"
     ]
    },
    {
     "name": "stdout",
     "output_type": "stream",
     "text": [
      " 14%|█▎        | 135/1000 [2:29:19<17:34:01, 73.11s/trial, best loss: 2.136947281689055]"
     ]
    },
    {
     "name": "stderr",
     "output_type": "stream",
     "text": [
      "Warning: less than 75% gpu memory available for training. Free: 7507.75 Total: 32510.5\n"
     ]
    },
    {
     "name": "stdout",
     "output_type": "stream",
     "text": [
      " 14%|█▎        | 136/1000 [2:30:31<17:29:00, 72.85s/trial, best loss: 2.136947281689055]"
     ]
    },
    {
     "name": "stderr",
     "output_type": "stream",
     "text": [
      "Warning: less than 75% gpu memory available for training. Free: 8367.75 Total: 32510.5\n"
     ]
    },
    {
     "name": "stdout",
     "output_type": "stream",
     "text": [
      " 14%|█▎        | 137/1000 [2:31:33<16:42:13, 69.68s/trial, best loss: 2.136947281689055]"
     ]
    },
    {
     "name": "stderr",
     "output_type": "stream",
     "text": [
      "Warning: less than 75% gpu memory available for training. Free: 9143.75 Total: 32510.5\n"
     ]
    },
    {
     "name": "stdout",
     "output_type": "stream",
     "text": [
      " 14%|█▍        | 138/1000 [2:32:07<14:07:05, 58.96s/trial, best loss: 2.136947281689055]"
     ]
    },
    {
     "name": "stderr",
     "output_type": "stream",
     "text": [
      "Warning: less than 75% gpu memory available for training. Free: 9143.75 Total: 32510.5\n"
     ]
    },
    {
     "name": "stdout",
     "output_type": "stream",
     "text": [
      " 14%|█▍        | 139/1000 [2:32:54<13:12:19, 55.21s/trial, best loss: 2.136947281689055]"
     ]
    },
    {
     "name": "stderr",
     "output_type": "stream",
     "text": [
      "Warning: less than 75% gpu memory available for training. Free: 9843.75 Total: 32510.5\n"
     ]
    },
    {
     "name": "stdout",
     "output_type": "stream",
     "text": [
      " 14%|█▍        | 140/1000 [2:34:18<15:18:17, 64.07s/trial, best loss: 2.136947281689055]"
     ]
    },
    {
     "name": "stderr",
     "output_type": "stream",
     "text": [
      "Warning: less than 75% gpu memory available for training. Free: 10475.75 Total: 32510.5\n"
     ]
    },
    {
     "name": "stdout",
     "output_type": "stream",
     "text": [
      " 14%|█▍        | 141/1000 [2:35:35<16:09:16, 67.70s/trial, best loss: 2.136947281689055]"
     ]
    },
    {
     "name": "stderr",
     "output_type": "stream",
     "text": [
      "Warning: less than 75% gpu memory available for training. Free: 11045.75 Total: 32510.5\n"
     ]
    },
    {
     "name": "stdout",
     "output_type": "stream",
     "text": [
      " 14%|█▍        | 142/1000 [2:37:19<18:46:53, 78.80s/trial, best loss: 2.136947281689055]"
     ]
    },
    {
     "name": "stderr",
     "output_type": "stream",
     "text": [
      "Warning: less than 75% gpu memory available for training. Free: 11559.75 Total: 32510.5\n"
     ]
    },
    {
     "name": "stdout",
     "output_type": "stream",
     "text": [
      " 14%|█▍        | 143/1000 [2:38:46<19:19:34, 81.18s/trial, best loss: 2.136947281689055]"
     ]
    },
    {
     "name": "stderr",
     "output_type": "stream",
     "text": [
      "Warning: less than 75% gpu memory available for training. Free: 12023.75 Total: 32510.5\n"
     ]
    },
    {
     "name": "stdout",
     "output_type": "stream",
     "text": [
      " 14%|█▍        | 144/1000 [2:39:53<18:16:32, 76.86s/trial, best loss: 2.136947281689055]"
     ]
    },
    {
     "name": "stderr",
     "output_type": "stream",
     "text": [
      "Warning: less than 75% gpu memory available for training. Free: 12443.75 Total: 32510.5\n"
     ]
    },
    {
     "name": "stdout",
     "output_type": "stream",
     "text": [
      " 14%|█▍        | 145/1000 [2:41:28<19:32:57, 82.31s/trial, best loss: 2.136947281689055]"
     ]
    },
    {
     "name": "stderr",
     "output_type": "stream",
     "text": [
      "Warning: less than 75% gpu memory available for training. Free: 12821.75 Total: 32510.5\n"
     ]
    },
    {
     "name": "stdout",
     "output_type": "stream",
     "text": [
      " 15%|█▍        | 146/1000 [2:42:48<19:23:29, 81.74s/trial, best loss: 2.136947281689055]"
     ]
    },
    {
     "name": "stderr",
     "output_type": "stream",
     "text": [
      "Warning: less than 75% gpu memory available for training. Free: 13163.75 Total: 32510.5\n"
     ]
    },
    {
     "name": "stdout",
     "output_type": "stream",
     "text": [
      " 15%|█▍        | 147/1000 [2:44:00<18:41:16, 78.87s/trial, best loss: 2.136947281689055]"
     ]
    },
    {
     "name": "stderr",
     "output_type": "stream",
     "text": [
      "Warning: less than 75% gpu memory available for training. Free: 13471.75 Total: 32510.5\n"
     ]
    },
    {
     "name": "stdout",
     "output_type": "stream",
     "text": [
      " 15%|█▍        | 148/1000 [2:45:12<18:10:26, 76.79s/trial, best loss: 2.136947281689055]"
     ]
    },
    {
     "name": "stderr",
     "output_type": "stream",
     "text": [
      "Warning: less than 75% gpu memory available for training. Free: 13751.75 Total: 32510.5\n"
     ]
    },
    {
     "name": "stdout",
     "output_type": "stream",
     "text": [
      " 46%|████▋     | 463/1000 [5:41:40<5:04:09, 33.98s/trial, best loss: 2.1366520454653113]"
     ]
    }
   ],
   "source": [
    "with open('/opt/ml/data/20230419_015908_catboost_data.pt',\"rb\") as f:\n",
    "    data = pickle.load(f)\n",
    "del data['train']['mean_user']\n",
    "del data['train']['median_user']\n",
    "del data['train']['var_user']\n",
    "del data['train']['std_user']\n",
    "del data['train']['category_mean']\n",
    "del data['train']['category_high_mean']\n",
    "del data['train']['category_median']\n",
    "del data['train']['category_high_median']\n",
    "del data['train']['category_std']\n",
    "del data['train']['category_high_std']\n",
    "del data['train']['mean_user_category']\n",
    "del data['train']['median_user_category']\n",
    "del data['train']['var_user_category']\n",
    "del data['train']['std_user_category']\n",
    "del data['train']['mean_user_category_high']\n",
    "del data['train']['median_user_category_high']\n",
    "del data['train']['var_user_category_high']\n",
    "del data['train']['user_rating_avg']\n",
    "del data['train']['user_rating_var']\n",
    "del data['train']['user_rating_median']\n",
    "del data['train']['std_user_category_high']\n",
    "\n",
    "del data['test']['median_user']\n",
    "del data['test']['var_user']\n",
    "del data['test']['std_user']\n",
    "del data['test']['category_mean']\n",
    "del data['test']['category_high_mean']\n",
    "del data['test']['category_median']\n",
    "del data['test']['category_high_median']\n",
    "del data['test']['category_std']\n",
    "del data['test']['category_high_std']\n",
    "del data['test']['mean_user_category']\n",
    "del data['test']['median_user_category']\n",
    "del data['test']['var_user_category']\n",
    "del data['test']['std_user_category']\n",
    "del data['test']['mean_user_category_high']\n",
    "del data['test']['median_user_category_high']\n",
    "del data['test']['var_user_category_high']\n",
    "del data['test']['user_rating_avg']\n",
    "del data['test']['user_rating_var']\n",
    "del data['test']['user_rating_median']\n",
    "del data['test']['std_user_category_high']\n",
    "\n",
    "data = context_data_split(data)\n",
    "\n",
    "def rmse(real: list, predict: list) -> float:\n",
    "    pred = np.array(predict)\n",
    "    return np.sqrt(np.mean((real-pred) ** 2))\n",
    "\n",
    "cat_features = ['user_id', 'isbn', 'category', 'category_high', 'publisher', 'language', 'book_author','age_map', 'location_city', 'location_state', 'location_country', 'year_of_publication_map']\n",
    "\n",
    "def objective(params):\n",
    "    model = CatBoostRegressor(\n",
    "        learning_rate=params['learning_rate'],\n",
    "        depth=int(params['depth']),\n",
    "        l2_leaf_reg=params['l2_leaf_reg'],\n",
    "        bagging_temperature=params['bagging_temperature'],\n",
    "        random_strength=params['random_strength'],\n",
    "        verbose=False,\n",
    "        task_type=\"GPU\",\n",
    "        eval_metric='RMSE'\n",
    "    )\n",
    "\n",
    "    model.fit(data['X_train'], data['y_train'], eval_set=(data['X_valid'],data['y_valid']), cat_features=cat_features, early_stopping_rounds=300)\n",
    "    y_pred = model.predict(data['X_valid'])\n",
    "\n",
    "    rmse = np.sqrt(mean_squared_error(data['y_valid'], y_pred))\n",
    "    return {'loss': rmse, 'status': 'ok'}\n",
    "\n",
    "trials = Trials()\n",
    "best = fmin(fn=objective,\n",
    "            space=space,\n",
    "            algo=tpe.suggest,\n",
    "            max_evals=1000,\n",
    "            trials=trials)\n",
    "\n",
    "print('Best hyperparameters:', best)"
   ]
  },
  {
   "cell_type": "code",
   "execution_count": 13,
   "id": "d40ccd1b-bfb2-4d93-a02a-a3a905216fb8",
   "metadata": {},
   "outputs": [
    {
     "name": "stdout",
     "output_type": "stream",
     "text": [
      "Best hyperparameters: {'bagging_temperature': 0.10001217419400599, 'depth': 8.0, 'iterations': 75000.0, 'l2_leaf_reg': 0.0007822886554960759, 'learning_rate': 0.07161638867514175, 'min_data_in_leaf': 95.0, 'random_strength': 9.169090950443135}\n"
     ]
    }
   ],
   "source": [
    "print('Best hyperparameters:', best)"
   ]
  },
  {
   "cell_type": "code",
   "execution_count": null,
   "id": "930aa945-6729-4949-a6ae-be49fa0c3eef",
   "metadata": {},
   "outputs": [],
   "source": []
  }
 ],
 "metadata": {
  "kernelspec": {
   "display_name": "Python 3 (ipykernel)",
   "language": "python",
   "name": "python3"
  },
  "language_info": {
   "codemirror_mode": {
    "name": "ipython",
    "version": 3
   },
   "file_extension": ".py",
   "mimetype": "text/x-python",
   "name": "python",
   "nbconvert_exporter": "python",
   "pygments_lexer": "ipython3",
   "version": "3.8.5"
  }
 },
 "nbformat": 4,
 "nbformat_minor": 5
}
